{
 "cells": [
  {
   "cell_type": "code",
   "execution_count": 49,
   "id": "62414541",
   "metadata": {},
   "outputs": [],
   "source": [
    "import pandas as pd\n",
    "import random\n",
    "import names\n",
    "import datetime as dt\n",
    "import sqlite3"
   ]
  },
  {
   "cell_type": "code",
   "execution_count": 50,
   "id": "31df95a6",
   "metadata": {},
   "outputs": [],
   "source": [
    "# Converts a 4 digit number into a 5 digit checksum\n",
    "def checkSum(num):\n",
    "    numString = str(num)\n",
    "    checkNum = str(3 * (int(numString[0]) + int(numString[2])) + 7 * (int(numString[1]) + int(numString[3])))[-1]\n",
    "    numString += checkNum\n",
    "    return int(numString)\n",
    "\n",
    "# Generates a random date between two dates\n",
    "def randomDateString():\n",
    "    minDate = dt.date(2015,1,1)\n",
    "    maxDate = dt.date(2022,10,1)\n",
    "    dateRange = (maxDate-minDate).days\n",
    "    randDate = minDate + dt.timedelta(days=random.randrange(dateRange))\n",
    "    return randDate.strftime(\"%Y-%m-%d\")\n",
    "\n",
    "# Adds a random amount of days to a date\n",
    "def randomDayAdder(maxYear, yearIn):\n",
    "    date = dt.datetime.strptime(yearIn,\"%Y-%m-%d\")\n",
    "    if date.year < maxYear:\n",
    "        return (date + dt.timedelta(days=random.randint(4,20))).strftime(\"%Y-%m-%d\")\n",
    "    else:\n",
    "        return None\n",
    "    \n",
    "# List of genres\n",
    "genreList = [\"Horror\",\"Comedy\",\"Thriller\",\"Fantasy\",\"Non-Fiction\",\"Cooking\",\"History\"]\n",
    "\n",
    "# List of residences\n",
    "residences = [\"Como\",\"Subiaco\",\"Fremantle\",\"Rockingham\",\"Midland\",\"Maylands\",\"Joondalup\",\"Kingsley\"]"
   ]
  },
  {
   "cell_type": "code",
   "execution_count": 51,
   "id": "a28d7221",
   "metadata": {},
   "outputs": [],
   "source": [
    "# Create sample data for BookEdition\n",
    "isbn = [checkSum(n) for n in random.sample(range(1000,10000), 100)]\n",
    "author = [names.get_full_name() for n in range(100)]\n",
    "publicationDate = [random.randint(1900,2022) for n in range(100)]\n",
    "genre = [genreList[random.randint(0,len(genreList)-1)] for n in range(100)]\n",
    "\n",
    "BookEdition = pd.DataFrame(list(zip(isbn,author,publicationDate,genre)),\n",
    "                          columns=[\"ISBN\",\"author\",\"publicationDate\",\"genre\"])"
   ]
  },
  {
   "cell_type": "code",
   "execution_count": 52,
   "id": "7cb28d6f",
   "metadata": {},
   "outputs": [
    {
     "data": {
      "text/html": [
       "<div>\n",
       "<style scoped>\n",
       "    .dataframe tbody tr th:only-of-type {\n",
       "        vertical-align: middle;\n",
       "    }\n",
       "\n",
       "    .dataframe tbody tr th {\n",
       "        vertical-align: top;\n",
       "    }\n",
       "\n",
       "    .dataframe thead th {\n",
       "        text-align: right;\n",
       "    }\n",
       "</style>\n",
       "<table border=\"1\" class=\"dataframe\">\n",
       "  <thead>\n",
       "    <tr style=\"text-align: right;\">\n",
       "      <th></th>\n",
       "      <th>ISBN</th>\n",
       "      <th>author</th>\n",
       "      <th>publicationDate</th>\n",
       "      <th>genre</th>\n",
       "    </tr>\n",
       "  </thead>\n",
       "  <tbody>\n",
       "    <tr>\n",
       "      <th>0</th>\n",
       "      <td>13736</td>\n",
       "      <td>Joshua Mcfarland</td>\n",
       "      <td>2015</td>\n",
       "      <td>Horror</td>\n",
       "    </tr>\n",
       "    <tr>\n",
       "      <th>1</th>\n",
       "      <td>11000</td>\n",
       "      <td>Joshua Rickman</td>\n",
       "      <td>1977</td>\n",
       "      <td>Fantasy</td>\n",
       "    </tr>\n",
       "    <tr>\n",
       "      <th>2</th>\n",
       "      <td>39923</td>\n",
       "      <td>Israel Mcmillan</td>\n",
       "      <td>2001</td>\n",
       "      <td>Comedy</td>\n",
       "    </tr>\n",
       "    <tr>\n",
       "      <th>3</th>\n",
       "      <td>95507</td>\n",
       "      <td>Bonita Smith</td>\n",
       "      <td>1926</td>\n",
       "      <td>Fantasy</td>\n",
       "    </tr>\n",
       "    <tr>\n",
       "      <th>4</th>\n",
       "      <td>82778</td>\n",
       "      <td>Thomas Hertel</td>\n",
       "      <td>1979</td>\n",
       "      <td>Comedy</td>\n",
       "    </tr>\n",
       "  </tbody>\n",
       "</table>\n",
       "</div>"
      ],
      "text/plain": [
       "    ISBN            author  publicationDate    genre\n",
       "0  13736  Joshua Mcfarland             2015   Horror\n",
       "1  11000    Joshua Rickman             1977  Fantasy\n",
       "2  39923   Israel Mcmillan             2001   Comedy\n",
       "3  95507      Bonita Smith             1926  Fantasy\n",
       "4  82778     Thomas Hertel             1979   Comedy"
      ]
     },
     "execution_count": 52,
     "metadata": {},
     "output_type": "execute_result"
    }
   ],
   "source": [
    "BookEdition.head()"
   ]
  },
  {
   "cell_type": "code",
   "execution_count": 53,
   "id": "9b031fa1",
   "metadata": {},
   "outputs": [],
   "source": [
    "# Create sample data for BookCopy\n",
    "isbn_copy = [isbn[random.randint(0,len(isbn)-1)] for n in range(200)]\n",
    "copyNumber = [isbn_copy[0:i+1].count(item) for i, item in enumerate(isbn_copy)]\n",
    "daysLoaned = [0] * len(isbn_copy)\n",
    "\n",
    "BookCopy = pd.DataFrame(list(zip(isbn_copy,copyNumber,daysLoaned)),\n",
    "                       columns=[\"ISBN\",\"copyNumber\",\"daysLoaned\"])"
   ]
  },
  {
   "cell_type": "code",
   "execution_count": 54,
   "id": "e92ddf1a",
   "metadata": {},
   "outputs": [
    {
     "data": {
      "text/html": [
       "<div>\n",
       "<style scoped>\n",
       "    .dataframe tbody tr th:only-of-type {\n",
       "        vertical-align: middle;\n",
       "    }\n",
       "\n",
       "    .dataframe tbody tr th {\n",
       "        vertical-align: top;\n",
       "    }\n",
       "\n",
       "    .dataframe thead th {\n",
       "        text-align: right;\n",
       "    }\n",
       "</style>\n",
       "<table border=\"1\" class=\"dataframe\">\n",
       "  <thead>\n",
       "    <tr style=\"text-align: right;\">\n",
       "      <th></th>\n",
       "      <th>ISBN</th>\n",
       "      <th>copyNumber</th>\n",
       "      <th>daysLoaned</th>\n",
       "    </tr>\n",
       "  </thead>\n",
       "  <tbody>\n",
       "    <tr>\n",
       "      <th>0</th>\n",
       "      <td>50476</td>\n",
       "      <td>1</td>\n",
       "      <td>0</td>\n",
       "    </tr>\n",
       "    <tr>\n",
       "      <th>1</th>\n",
       "      <td>58764</td>\n",
       "      <td>1</td>\n",
       "      <td>0</td>\n",
       "    </tr>\n",
       "    <tr>\n",
       "      <th>2</th>\n",
       "      <td>78258</td>\n",
       "      <td>1</td>\n",
       "      <td>0</td>\n",
       "    </tr>\n",
       "    <tr>\n",
       "      <th>3</th>\n",
       "      <td>39923</td>\n",
       "      <td>1</td>\n",
       "      <td>0</td>\n",
       "    </tr>\n",
       "    <tr>\n",
       "      <th>4</th>\n",
       "      <td>86192</td>\n",
       "      <td>1</td>\n",
       "      <td>0</td>\n",
       "    </tr>\n",
       "  </tbody>\n",
       "</table>\n",
       "</div>"
      ],
      "text/plain": [
       "    ISBN  copyNumber  daysLoaned\n",
       "0  50476           1           0\n",
       "1  58764           1           0\n",
       "2  78258           1           0\n",
       "3  39923           1           0\n",
       "4  86192           1           0"
      ]
     },
     "execution_count": 54,
     "metadata": {},
     "output_type": "execute_result"
    }
   ],
   "source": [
    "BookCopy.head()"
   ]
  },
  {
   "cell_type": "code",
   "execution_count": 55,
   "id": "8d3adfd1",
   "metadata": {},
   "outputs": [],
   "source": [
    "# Create sample data for Client\n",
    "clientId = [i+1 for i in range(60)]\n",
    "name = [names.get_full_name() for n in range(60)]\n",
    "residence = [residences[random.randint(0,len(residences)-1)] for n in range(60)]\n",
    "\n",
    "Client = pd.DataFrame(list(zip(clientId,name,residence)),\n",
    "                     columns=[\"clientId\",\"name\",\"residence\"])"
   ]
  },
  {
   "cell_type": "code",
   "execution_count": 56,
   "id": "b769890b",
   "metadata": {
    "scrolled": true
   },
   "outputs": [
    {
     "data": {
      "text/html": [
       "<div>\n",
       "<style scoped>\n",
       "    .dataframe tbody tr th:only-of-type {\n",
       "        vertical-align: middle;\n",
       "    }\n",
       "\n",
       "    .dataframe tbody tr th {\n",
       "        vertical-align: top;\n",
       "    }\n",
       "\n",
       "    .dataframe thead th {\n",
       "        text-align: right;\n",
       "    }\n",
       "</style>\n",
       "<table border=\"1\" class=\"dataframe\">\n",
       "  <thead>\n",
       "    <tr style=\"text-align: right;\">\n",
       "      <th></th>\n",
       "      <th>clientId</th>\n",
       "      <th>name</th>\n",
       "      <th>residence</th>\n",
       "    </tr>\n",
       "  </thead>\n",
       "  <tbody>\n",
       "    <tr>\n",
       "      <th>0</th>\n",
       "      <td>1</td>\n",
       "      <td>Jana Harris</td>\n",
       "      <td>Subiaco</td>\n",
       "    </tr>\n",
       "    <tr>\n",
       "      <th>1</th>\n",
       "      <td>2</td>\n",
       "      <td>Mike Mcgray</td>\n",
       "      <td>Fremantle</td>\n",
       "    </tr>\n",
       "    <tr>\n",
       "      <th>2</th>\n",
       "      <td>3</td>\n",
       "      <td>Dorothy Looney</td>\n",
       "      <td>Midland</td>\n",
       "    </tr>\n",
       "    <tr>\n",
       "      <th>3</th>\n",
       "      <td>4</td>\n",
       "      <td>Michael Brown</td>\n",
       "      <td>Midland</td>\n",
       "    </tr>\n",
       "    <tr>\n",
       "      <th>4</th>\n",
       "      <td>5</td>\n",
       "      <td>Mario Ludwig</td>\n",
       "      <td>Subiaco</td>\n",
       "    </tr>\n",
       "  </tbody>\n",
       "</table>\n",
       "</div>"
      ],
      "text/plain": [
       "   clientId            name  residence\n",
       "0         1     Jana Harris    Subiaco\n",
       "1         2     Mike Mcgray  Fremantle\n",
       "2         3  Dorothy Looney    Midland\n",
       "3         4   Michael Brown    Midland\n",
       "4         5    Mario Ludwig    Subiaco"
      ]
     },
     "execution_count": 56,
     "metadata": {},
     "output_type": "execute_result"
    }
   ],
   "source": [
    "Client.head()"
   ]
  },
  {
   "cell_type": "code",
   "execution_count": 57,
   "id": "2923487e",
   "metadata": {},
   "outputs": [],
   "source": [
    "# List of tuples ensures ISBN and copyNumber are consistent and not mismatched during random selection\n",
    "isbn_copyNumber = [list(zip(isbn_copy,copyNumber))[random.randint(0,len(isbn_copy)-1)] for n in range(500)]\n",
    "\n",
    "clientId_loan = [clientId[random.randint(0,59)] for n in range(500)]\n",
    "isbn_loan = [item[0] for item in isbn_copyNumber]\n",
    "copyNumber_loan = [item[1] for item in isbn_copyNumber]\n",
    "dateOut = [randomDateString() for n in range(500)]\n",
    "dateBack = [\"NULL\" for n in range(500)]\n",
    "\n",
    "loan = pd.DataFrame(list(zip(clientId_loan,isbn_loan,copyNumber_loan,dateOut,dateBack)),\n",
    "                   columns=[\"clientId\",\"ISBN\",\"copyNumber\",\"dateOut\",\"dateBack\"])"
   ]
  },
  {
   "cell_type": "code",
   "execution_count": 58,
   "id": "3b2c409a",
   "metadata": {
    "scrolled": true
   },
   "outputs": [
    {
     "data": {
      "text/html": [
       "<div>\n",
       "<style scoped>\n",
       "    .dataframe tbody tr th:only-of-type {\n",
       "        vertical-align: middle;\n",
       "    }\n",
       "\n",
       "    .dataframe tbody tr th {\n",
       "        vertical-align: top;\n",
       "    }\n",
       "\n",
       "    .dataframe thead th {\n",
       "        text-align: right;\n",
       "    }\n",
       "</style>\n",
       "<table border=\"1\" class=\"dataframe\">\n",
       "  <thead>\n",
       "    <tr style=\"text-align: right;\">\n",
       "      <th></th>\n",
       "      <th>clientId</th>\n",
       "      <th>ISBN</th>\n",
       "      <th>copyNumber</th>\n",
       "      <th>dateOut</th>\n",
       "      <th>dateBack</th>\n",
       "    </tr>\n",
       "  </thead>\n",
       "  <tbody>\n",
       "    <tr>\n",
       "      <th>0</th>\n",
       "      <td>29</td>\n",
       "      <td>13949</td>\n",
       "      <td>1</td>\n",
       "      <td>2020-01-09</td>\n",
       "      <td>NULL</td>\n",
       "    </tr>\n",
       "    <tr>\n",
       "      <th>1</th>\n",
       "      <td>16</td>\n",
       "      <td>21632</td>\n",
       "      <td>3</td>\n",
       "      <td>2017-07-29</td>\n",
       "      <td>NULL</td>\n",
       "    </tr>\n",
       "    <tr>\n",
       "      <th>2</th>\n",
       "      <td>43</td>\n",
       "      <td>93204</td>\n",
       "      <td>3</td>\n",
       "      <td>2019-11-14</td>\n",
       "      <td>NULL</td>\n",
       "    </tr>\n",
       "    <tr>\n",
       "      <th>3</th>\n",
       "      <td>11</td>\n",
       "      <td>38139</td>\n",
       "      <td>2</td>\n",
       "      <td>2015-12-22</td>\n",
       "      <td>NULL</td>\n",
       "    </tr>\n",
       "    <tr>\n",
       "      <th>4</th>\n",
       "      <td>49</td>\n",
       "      <td>44842</td>\n",
       "      <td>1</td>\n",
       "      <td>2016-05-10</td>\n",
       "      <td>NULL</td>\n",
       "    </tr>\n",
       "  </tbody>\n",
       "</table>\n",
       "</div>"
      ],
      "text/plain": [
       "   clientId   ISBN  copyNumber     dateOut dateBack\n",
       "0        29  13949           1  2020-01-09     NULL\n",
       "1        16  21632           3  2017-07-29     NULL\n",
       "2        43  93204           3  2019-11-14     NULL\n",
       "3        11  38139           2  2015-12-22     NULL\n",
       "4        49  44842           1  2016-05-10     NULL"
      ]
     },
     "execution_count": 58,
     "metadata": {},
     "output_type": "execute_result"
    }
   ],
   "source": [
    "loan.head()"
   ]
  },
  {
   "cell_type": "code",
   "execution_count": 59,
   "id": "2a946c81",
   "metadata": {},
   "outputs": [
    {
     "name": "stdout",
     "output_type": "stream",
     "text": [
      "Enter database name here including .db extension (i.e., myDatabase.db): test.db\n"
     ]
    }
   ],
   "source": [
    "# Connect to the sqlite database\n",
    "db = input(\"Enter database name here including .db extension (i.e., myDatabase.db): \")\n",
    "conn = sqlite3.connect(db)\n",
    "cursor = conn.cursor()"
   ]
  },
  {
   "cell_type": "code",
   "execution_count": 60,
   "id": "9f5ca267",
   "metadata": {
    "scrolled": true
   },
   "outputs": [
    {
     "data": {
      "text/plain": [
       "100"
      ]
     },
     "execution_count": 60,
     "metadata": {},
     "output_type": "execute_result"
    }
   ],
   "source": [
    "# Populate BookEdition table with sample data\n",
    "BookEdition.to_sql(name=\"BookEdition\", con=conn, if_exists=\"append\", index=False)"
   ]
  },
  {
   "cell_type": "code",
   "execution_count": 61,
   "id": "d5fb44db",
   "metadata": {},
   "outputs": [
    {
     "data": {
      "text/plain": [
       "200"
      ]
     },
     "execution_count": 61,
     "metadata": {},
     "output_type": "execute_result"
    }
   ],
   "source": [
    "#Populate BookCopy table with sample data\n",
    "BookCopy.to_sql(name=\"BookCopy\", con=conn, if_exists=\"append\", index=False)"
   ]
  },
  {
   "cell_type": "code",
   "execution_count": 62,
   "id": "aad0fc1f",
   "metadata": {
    "scrolled": true
   },
   "outputs": [
    {
     "data": {
      "text/plain": [
       "60"
      ]
     },
     "execution_count": 62,
     "metadata": {},
     "output_type": "execute_result"
    }
   ],
   "source": [
    "# Populate Client table with sample data\n",
    "Client.to_sql(name=\"Client\", con=conn, if_exists=\"append\", index=False)"
   ]
  },
  {
   "cell_type": "code",
   "execution_count": 63,
   "id": "9a3269f9",
   "metadata": {},
   "outputs": [],
   "source": [
    "# Commit to adding sample data\n",
    "conn.commit()"
   ]
  },
  {
   "cell_type": "code",
   "execution_count": 64,
   "id": "baf035f5",
   "metadata": {},
   "outputs": [],
   "source": [
    "# Generate a list of random return dates for some loans\n",
    "newDateBack = [randomDayAdder(2022, date) for date in dateOut]\n",
    "\n",
    "# Row wise simultaneous insertion and update of loan table, see note () in readme for the reason this is done\n",
    "for i, items in enumerate(loan.itertuples()):\n",
    "    insert = f\"INSERT INTO loan ('clientId','ISBN','copyNumber','dateOut','dateBack') VALUES ({items[1]},'{items[2]}',{items[3]},'{items[4]}',{items[5]});\"\n",
    "    cursor.execute(insert)\n",
    "    conn.commit()\n",
    "    if newDateBack[i]:\n",
    "        update = f\"UPDATE loan SET dateBack = '{newDateBack[i]}' WHERE clientId = {items[1]} AND ISBN = '{items[2]}' AND copyNumber = {items[3]} AND dateOut < '{newDateBack[i]}' AND dateBack IS NULL\"\n",
    "        cursor.execute(update)\n",
    "        conn.commit()"
   ]
  }
 ],
 "metadata": {
  "kernelspec": {
   "display_name": "Python 3 (ipykernel)",
   "language": "python",
   "name": "python3"
  },
  "language_info": {
   "codemirror_mode": {
    "name": "ipython",
    "version": 3
   },
   "file_extension": ".py",
   "mimetype": "text/x-python",
   "name": "python",
   "nbconvert_exporter": "python",
   "pygments_lexer": "ipython3",
   "version": "3.9.12"
  }
 },
 "nbformat": 4,
 "nbformat_minor": 5
}
