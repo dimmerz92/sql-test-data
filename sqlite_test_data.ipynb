{
 "cells": [
  {
   "cell_type": "code",
   "execution_count": 1,
   "id": "62414541",
   "metadata": {},
   "outputs": [],
   "source": [
    "import pandas as pd\n",
    "import random\n",
    "import names\n",
    "import datetime as dt\n",
    "import sqlite3"
   ]
  },
  {
   "cell_type": "code",
   "execution_count": 2,
   "id": "31df95a6",
   "metadata": {},
   "outputs": [],
   "source": [
    "# Converts a 4 digit number into a 5 digit checksum\n",
    "def checkSum(num):\n",
    "    numString = str(num)\n",
    "    checkNum = str(3 * (int(numString[0]) + int(numString[2])) + 7 * (int(numString[1]) + int(numString[3])))[-1]\n",
    "    numString += checkNum\n",
    "    return int(numString)\n",
    "\n",
    "def randomDateString():\n",
    "    minDate = dt.date(2015,1,1)\n",
    "    maxDate = dt.date(2022,10,1)\n",
    "    dateRange = (maxDate-minDate).days\n",
    "    randDate = minDate + dt.timedelta(days=random.randrange(dateRange))\n",
    "    return randDate.strftime(\"%Y-%m-%d\")\n",
    "\n",
    "def randomDayAdder(maxYear, yearIn):\n",
    "    date = dt.datetime.strptime(yearIn,\"%Y-%m-%d\")\n",
    "    if date.year < maxYear:\n",
    "        return (date + dt.timedelta(days=random.randint(4,20))).strftime(\"%Y-%m-%d\")\n",
    "    else:\n",
    "        return None\n",
    "    \n",
    "\n",
    "# List of genres\n",
    "genreList = [\"Horror\",\"Comedy\",\"Thriller\",\"Fantasy\",\"Non-Fiction\",\"Cooking\",\"History\"]\n",
    "\n",
    "# List of residences\n",
    "residences = [\"Como\",\"Subiaco\",\"Fremantle\",\"Rockingham\",\"Midland\",\"Maylands\",\"Joondalup\",\"Kingsley\"]"
   ]
  },
  {
   "cell_type": "code",
   "execution_count": 3,
   "id": "a28d7221",
   "metadata": {},
   "outputs": [],
   "source": [
    "# Create sample data for BookEdition\n",
    "isbn = [checkSum(n) for n in random.sample(range(1000,10000), 100)]\n",
    "author = [names.get_full_name() for n in range(100)]\n",
    "publicationDate = [random.randint(1900,2022) for n in range(100)]\n",
    "genre = [genreList[random.randint(0,len(genreList)-1)] for n in range(100)]\n",
    "\n",
    "BookEdition = pd.DataFrame(list(zip(isbn,author,publicationDate,genre)),\n",
    "                          columns=[\"ISBN\",\"author\",\"publicationDate\",\"genre\"])"
   ]
  },
  {
   "cell_type": "code",
   "execution_count": 4,
   "id": "7cb28d6f",
   "metadata": {},
   "outputs": [
    {
     "data": {
      "text/html": [
       "<div>\n",
       "<style scoped>\n",
       "    .dataframe tbody tr th:only-of-type {\n",
       "        vertical-align: middle;\n",
       "    }\n",
       "\n",
       "    .dataframe tbody tr th {\n",
       "        vertical-align: top;\n",
       "    }\n",
       "\n",
       "    .dataframe thead th {\n",
       "        text-align: right;\n",
       "    }\n",
       "</style>\n",
       "<table border=\"1\" class=\"dataframe\">\n",
       "  <thead>\n",
       "    <tr style=\"text-align: right;\">\n",
       "      <th></th>\n",
       "      <th>ISBN</th>\n",
       "      <th>author</th>\n",
       "      <th>publicationDate</th>\n",
       "      <th>genre</th>\n",
       "    </tr>\n",
       "  </thead>\n",
       "  <tbody>\n",
       "    <tr>\n",
       "      <th>0</th>\n",
       "      <td>67409</td>\n",
       "      <td>Lucinda Coleman</td>\n",
       "      <td>1991</td>\n",
       "      <td>Cooking</td>\n",
       "    </tr>\n",
       "    <tr>\n",
       "      <th>1</th>\n",
       "      <td>51686</td>\n",
       "      <td>Amber Holland</td>\n",
       "      <td>1912</td>\n",
       "      <td>Cooking</td>\n",
       "    </tr>\n",
       "    <tr>\n",
       "      <th>2</th>\n",
       "      <td>47991</td>\n",
       "      <td>Frank Ferguson</td>\n",
       "      <td>1973</td>\n",
       "      <td>Fantasy</td>\n",
       "    </tr>\n",
       "    <tr>\n",
       "      <th>3</th>\n",
       "      <td>56519</td>\n",
       "      <td>Rosita Martin</td>\n",
       "      <td>1925</td>\n",
       "      <td>Horror</td>\n",
       "    </tr>\n",
       "    <tr>\n",
       "      <th>4</th>\n",
       "      <td>48644</td>\n",
       "      <td>Jerry Baker</td>\n",
       "      <td>1996</td>\n",
       "      <td>Thriller</td>\n",
       "    </tr>\n",
       "  </tbody>\n",
       "</table>\n",
       "</div>"
      ],
      "text/plain": [
       "    ISBN           author  publicationDate     genre\n",
       "0  67409  Lucinda Coleman             1991   Cooking\n",
       "1  51686    Amber Holland             1912   Cooking\n",
       "2  47991   Frank Ferguson             1973   Fantasy\n",
       "3  56519    Rosita Martin             1925    Horror\n",
       "4  48644      Jerry Baker             1996  Thriller"
      ]
     },
     "execution_count": 4,
     "metadata": {},
     "output_type": "execute_result"
    }
   ],
   "source": [
    "BookEdition.head()"
   ]
  },
  {
   "cell_type": "code",
   "execution_count": 5,
   "id": "9b031fa1",
   "metadata": {},
   "outputs": [],
   "source": [
    "# Create sample data for BookCopy\n",
    "isbn_copy = [isbn[random.randint(0,len(isbn)-1)] for n in range(200)]\n",
    "copyNumber = [isbn_copy[0:i+1].count(item) for i, item in enumerate(isbn_copy)]\n",
    "daysLoaned = [0] * len(isbn_copy)\n",
    "\n",
    "BookCopy = pd.DataFrame(list(zip(isbn_copy,copyNumber,daysLoaned)),\n",
    "                       columns=[\"ISBN\",\"copyNumber\",\"daysLoaned\"])"
   ]
  },
  {
   "cell_type": "code",
   "execution_count": 6,
   "id": "e92ddf1a",
   "metadata": {},
   "outputs": [
    {
     "data": {
      "text/html": [
       "<div>\n",
       "<style scoped>\n",
       "    .dataframe tbody tr th:only-of-type {\n",
       "        vertical-align: middle;\n",
       "    }\n",
       "\n",
       "    .dataframe tbody tr th {\n",
       "        vertical-align: top;\n",
       "    }\n",
       "\n",
       "    .dataframe thead th {\n",
       "        text-align: right;\n",
       "    }\n",
       "</style>\n",
       "<table border=\"1\" class=\"dataframe\">\n",
       "  <thead>\n",
       "    <tr style=\"text-align: right;\">\n",
       "      <th></th>\n",
       "      <th>ISBN</th>\n",
       "      <th>copyNumber</th>\n",
       "      <th>daysLoaned</th>\n",
       "    </tr>\n",
       "  </thead>\n",
       "  <tbody>\n",
       "    <tr>\n",
       "      <th>0</th>\n",
       "      <td>68932</td>\n",
       "      <td>1</td>\n",
       "      <td>0</td>\n",
       "    </tr>\n",
       "    <tr>\n",
       "      <th>1</th>\n",
       "      <td>14678</td>\n",
       "      <td>1</td>\n",
       "      <td>0</td>\n",
       "    </tr>\n",
       "    <tr>\n",
       "      <th>2</th>\n",
       "      <td>54883</td>\n",
       "      <td>1</td>\n",
       "      <td>0</td>\n",
       "    </tr>\n",
       "    <tr>\n",
       "      <th>3</th>\n",
       "      <td>31051</td>\n",
       "      <td>1</td>\n",
       "      <td>0</td>\n",
       "    </tr>\n",
       "    <tr>\n",
       "      <th>4</th>\n",
       "      <td>16775</td>\n",
       "      <td>1</td>\n",
       "      <td>0</td>\n",
       "    </tr>\n",
       "  </tbody>\n",
       "</table>\n",
       "</div>"
      ],
      "text/plain": [
       "    ISBN  copyNumber  daysLoaned\n",
       "0  68932           1           0\n",
       "1  14678           1           0\n",
       "2  54883           1           0\n",
       "3  31051           1           0\n",
       "4  16775           1           0"
      ]
     },
     "execution_count": 6,
     "metadata": {},
     "output_type": "execute_result"
    }
   ],
   "source": [
    "BookCopy.head()"
   ]
  },
  {
   "cell_type": "code",
   "execution_count": 7,
   "id": "8d3adfd1",
   "metadata": {},
   "outputs": [],
   "source": [
    "# Create sample data for Client\n",
    "clientId = [i+1 for i in range(60)]\n",
    "name = [names.get_full_name() for n in range(60)]\n",
    "residence = [residences[random.randint(0,len(residences)-1)] for n in range(60)]\n",
    "\n",
    "Client = pd.DataFrame(list(zip(clientId,name,residence)),\n",
    "                     columns=[\"clientId\",\"name\",\"residence\"])"
   ]
  },
  {
   "cell_type": "code",
   "execution_count": 8,
   "id": "b769890b",
   "metadata": {
    "scrolled": true
   },
   "outputs": [
    {
     "data": {
      "text/html": [
       "<div>\n",
       "<style scoped>\n",
       "    .dataframe tbody tr th:only-of-type {\n",
       "        vertical-align: middle;\n",
       "    }\n",
       "\n",
       "    .dataframe tbody tr th {\n",
       "        vertical-align: top;\n",
       "    }\n",
       "\n",
       "    .dataframe thead th {\n",
       "        text-align: right;\n",
       "    }\n",
       "</style>\n",
       "<table border=\"1\" class=\"dataframe\">\n",
       "  <thead>\n",
       "    <tr style=\"text-align: right;\">\n",
       "      <th></th>\n",
       "      <th>clientId</th>\n",
       "      <th>name</th>\n",
       "      <th>residence</th>\n",
       "    </tr>\n",
       "  </thead>\n",
       "  <tbody>\n",
       "    <tr>\n",
       "      <th>0</th>\n",
       "      <td>1</td>\n",
       "      <td>John Harbeson</td>\n",
       "      <td>Joondalup</td>\n",
       "    </tr>\n",
       "    <tr>\n",
       "      <th>1</th>\n",
       "      <td>2</td>\n",
       "      <td>Charlotte Martin</td>\n",
       "      <td>Subiaco</td>\n",
       "    </tr>\n",
       "    <tr>\n",
       "      <th>2</th>\n",
       "      <td>3</td>\n",
       "      <td>Shane Froedge</td>\n",
       "      <td>Subiaco</td>\n",
       "    </tr>\n",
       "    <tr>\n",
       "      <th>3</th>\n",
       "      <td>4</td>\n",
       "      <td>Gary Broussard</td>\n",
       "      <td>Rockingham</td>\n",
       "    </tr>\n",
       "    <tr>\n",
       "      <th>4</th>\n",
       "      <td>5</td>\n",
       "      <td>James Morris</td>\n",
       "      <td>Kingsley</td>\n",
       "    </tr>\n",
       "  </tbody>\n",
       "</table>\n",
       "</div>"
      ],
      "text/plain": [
       "   clientId              name   residence\n",
       "0         1     John Harbeson   Joondalup\n",
       "1         2  Charlotte Martin     Subiaco\n",
       "2         3     Shane Froedge     Subiaco\n",
       "3         4    Gary Broussard  Rockingham\n",
       "4         5      James Morris    Kingsley"
      ]
     },
     "execution_count": 8,
     "metadata": {},
     "output_type": "execute_result"
    }
   ],
   "source": [
    "Client.head()"
   ]
  },
  {
   "cell_type": "code",
   "execution_count": 9,
   "id": "2923487e",
   "metadata": {},
   "outputs": [],
   "source": [
    "# List of tuples ensures ISBN and copyNumber are consistent and not mismatched during random selection\n",
    "isbn_copyNumber = [list(zip(isbn_copy,copyNumber))[random.randint(0,len(isbn_copy)-1)] for n in range(500)]\n",
    "\n",
    "clientId_loan = [clientId[random.randint(0,59)] for n in range(500)]\n",
    "isbn_loan = [item[0] for item in isbn_copyNumber]\n",
    "copyNumber_loan = [item[1] for item in isbn_copyNumber]\n",
    "dateOut = [randomDateString() for n in range(500)]\n",
    "dateBack = [None for n in range(500)]\n",
    "\n",
    "loan = pd.DataFrame(list(zip(clientId_loan,isbn_loan,copyNumber_loan,dateOut,dateBack)),\n",
    "                   columns=[\"clientId\",\"ISBN\",\"copyNumber\",\"dateOut\",\"dateBack\"])"
   ]
  },
  {
   "cell_type": "code",
   "execution_count": 10,
   "id": "3b2c409a",
   "metadata": {
    "scrolled": true
   },
   "outputs": [
    {
     "data": {
      "text/html": [
       "<div>\n",
       "<style scoped>\n",
       "    .dataframe tbody tr th:only-of-type {\n",
       "        vertical-align: middle;\n",
       "    }\n",
       "\n",
       "    .dataframe tbody tr th {\n",
       "        vertical-align: top;\n",
       "    }\n",
       "\n",
       "    .dataframe thead th {\n",
       "        text-align: right;\n",
       "    }\n",
       "</style>\n",
       "<table border=\"1\" class=\"dataframe\">\n",
       "  <thead>\n",
       "    <tr style=\"text-align: right;\">\n",
       "      <th></th>\n",
       "      <th>clientId</th>\n",
       "      <th>ISBN</th>\n",
       "      <th>copyNumber</th>\n",
       "      <th>dateOut</th>\n",
       "      <th>dateBack</th>\n",
       "    </tr>\n",
       "  </thead>\n",
       "  <tbody>\n",
       "    <tr>\n",
       "      <th>0</th>\n",
       "      <td>40</td>\n",
       "      <td>22251</td>\n",
       "      <td>2</td>\n",
       "      <td>2021-06-17</td>\n",
       "      <td>None</td>\n",
       "    </tr>\n",
       "    <tr>\n",
       "      <th>1</th>\n",
       "      <td>57</td>\n",
       "      <td>14678</td>\n",
       "      <td>1</td>\n",
       "      <td>2016-07-09</td>\n",
       "      <td>None</td>\n",
       "    </tr>\n",
       "    <tr>\n",
       "      <th>2</th>\n",
       "      <td>23</td>\n",
       "      <td>71149</td>\n",
       "      <td>1</td>\n",
       "      <td>2015-02-01</td>\n",
       "      <td>None</td>\n",
       "    </tr>\n",
       "    <tr>\n",
       "      <th>3</th>\n",
       "      <td>51</td>\n",
       "      <td>37400</td>\n",
       "      <td>1</td>\n",
       "      <td>2016-11-13</td>\n",
       "      <td>None</td>\n",
       "    </tr>\n",
       "    <tr>\n",
       "      <th>4</th>\n",
       "      <td>20</td>\n",
       "      <td>26383</td>\n",
       "      <td>1</td>\n",
       "      <td>2019-03-27</td>\n",
       "      <td>None</td>\n",
       "    </tr>\n",
       "  </tbody>\n",
       "</table>\n",
       "</div>"
      ],
      "text/plain": [
       "   clientId   ISBN  copyNumber     dateOut dateBack\n",
       "0        40  22251           2  2021-06-17     None\n",
       "1        57  14678           1  2016-07-09     None\n",
       "2        23  71149           1  2015-02-01     None\n",
       "3        51  37400           1  2016-11-13     None\n",
       "4        20  26383           1  2019-03-27     None"
      ]
     },
     "execution_count": 10,
     "metadata": {},
     "output_type": "execute_result"
    }
   ],
   "source": [
    "loan.head()"
   ]
  },
  {
   "cell_type": "code",
   "execution_count": 11,
   "id": "2a946c81",
   "metadata": {},
   "outputs": [],
   "source": [
    "# Add sample data to sqlite tables\n",
    "conn = sqlite3.connect(\"test.db\")\n",
    "cursor = conn.cursor()"
   ]
  },
  {
   "cell_type": "code",
   "execution_count": 12,
   "id": "9f5ca267",
   "metadata": {
    "scrolled": true
   },
   "outputs": [
    {
     "data": {
      "text/plain": [
       "100"
      ]
     },
     "execution_count": 12,
     "metadata": {},
     "output_type": "execute_result"
    }
   ],
   "source": [
    "BookEdition.to_sql(name=\"BookEdition\", con=conn, if_exists=\"append\", index=False)"
   ]
  },
  {
   "cell_type": "code",
   "execution_count": 13,
   "id": "d5fb44db",
   "metadata": {},
   "outputs": [
    {
     "data": {
      "text/plain": [
       "200"
      ]
     },
     "execution_count": 13,
     "metadata": {},
     "output_type": "execute_result"
    }
   ],
   "source": [
    "BookCopy.to_sql(name=\"BookCopy\", con=conn, if_exists=\"append\", index=False)"
   ]
  },
  {
   "cell_type": "code",
   "execution_count": 14,
   "id": "aad0fc1f",
   "metadata": {
    "scrolled": true
   },
   "outputs": [
    {
     "data": {
      "text/plain": [
       "60"
      ]
     },
     "execution_count": 14,
     "metadata": {},
     "output_type": "execute_result"
    }
   ],
   "source": [
    "Client.to_sql(name=\"Client\", con=conn, if_exists=\"append\", index=False)"
   ]
  },
  {
   "cell_type": "code",
   "execution_count": 15,
   "id": "0a130815",
   "metadata": {},
   "outputs": [
    {
     "data": {
      "text/plain": [
       "500"
      ]
     },
     "execution_count": 15,
     "metadata": {},
     "output_type": "execute_result"
    }
   ],
   "source": [
    "loan.to_sql(name=\"loan\", con=conn, if_exists=\"append\", index=False)"
   ]
  },
  {
   "cell_type": "code",
   "execution_count": 16,
   "id": "9a3269f9",
   "metadata": {},
   "outputs": [],
   "source": [
    "# Commit to adding sample data\n",
    "conn.commit()"
   ]
  },
  {
   "cell_type": "code",
   "execution_count": 17,
   "id": "e05bb4e8",
   "metadata": {},
   "outputs": [],
   "source": [
    "# Update dateBack column in loan table to check trigger\n",
    "newDateBack = [randomDayAdder(2022, date) for date in dateOut]\n",
    "\n",
    "# Append rows to sqlite tables\n",
    "for items in zip(newDateBack, isbn_loan, copyNumber_loan, clientId_loan):\n",
    "    if items[0]:\n",
    "        insert = f\"UPDATE loan SET dateBack = '{items[0]}' WHERE ISBN = '{items[1]}' AND copyNumber = '{items[2]}' AND clientId = {items[3]} AND dateBack IS NULL AND dateOut < '{items[0]}';\"\n",
    "        cursor.execute(insert)\n",
    "        conn.commit()"
   ]
  }
 ],
 "metadata": {
  "kernelspec": {
   "display_name": "Python 3 (ipykernel)",
   "language": "python",
   "name": "python3"
  },
  "language_info": {
   "codemirror_mode": {
    "name": "ipython",
    "version": 3
   },
   "file_extension": ".py",
   "mimetype": "text/x-python",
   "name": "python",
   "nbconvert_exporter": "python",
   "pygments_lexer": "ipython3",
   "version": "3.9.12"
  }
 },
 "nbformat": 4,
 "nbformat_minor": 5
}
