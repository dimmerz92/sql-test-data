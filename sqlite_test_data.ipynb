{
 "cells": [
  {
   "cell_type": "code",
   "execution_count": 1,
   "id": "62414541",
   "metadata": {},
   "outputs": [],
   "source": [
    "import pandas as pd\n",
    "import random\n",
    "import names\n",
    "import datetime as dt\n",
    "import sqlite3"
   ]
  },
  {
   "cell_type": "code",
   "execution_count": 2,
   "id": "31df95a6",
   "metadata": {},
   "outputs": [],
   "source": [
    "# Converts a 4 digit number into a 5 digit checksum\n",
    "def checkSum(num):\n",
    "    numString = str(num)\n",
    "    checkNum = str(3 * (int(numString[0]) + int(numString[2])) + 7 * (int(numString[1]) + int(numString[3])))[-1]\n",
    "    numString += checkNum\n",
    "    return int(numString)\n",
    "\n",
    "# Generates a random date between two dates\n",
    "def randomDateString():\n",
    "    minDate = dt.date(2015,1,1)\n",
    "    maxDate = dt.date(2022,10,1)\n",
    "    dateRange = (maxDate-minDate).days\n",
    "    randDate = minDate + dt.timedelta(days=random.randrange(dateRange))\n",
    "    return randDate.strftime(\"%Y-%m-%d\")\n",
    "\n",
    "# Adds a random amount of days to a date\n",
    "def randomDayAdder(maxYear, yearIn):\n",
    "    date = dt.datetime.strptime(yearIn,\"%Y-%m-%d\")\n",
    "    if date.year < maxYear:\n",
    "        return (date + dt.timedelta(days=random.randint(4,20))).strftime(\"%Y-%m-%d\")\n",
    "    else:\n",
    "        return None\n",
    "    \n",
    "# List of genres\n",
    "genreList = [\"Horror\",\"Comedy\",\"Thriller\",\"Fantasy\",\"Non-Fiction\",\"Cooking\",\"History\"]\n",
    "\n",
    "# List of residences\n",
    "residences = [\"Como\",\"Subiaco\",\"Fremantle\",\"Rockingham\",\"Midland\",\"Maylands\",\"Joondalup\",\"Kingsley\"]"
   ]
  },
  {
   "cell_type": "code",
   "execution_count": 3,
   "id": "a28d7221",
   "metadata": {},
   "outputs": [],
   "source": [
    "# Create sample data for BookEdition\n",
    "isbn = [checkSum(n) for n in random.sample(range(1000,10000), 100)]\n",
    "author = [names.get_full_name() for n in range(100)]\n",
    "publicationDate = [random.randint(1900,2022) for n in range(100)]\n",
    "genre = [genreList[random.randint(0,len(genreList)-1)] for n in range(100)]\n",
    "\n",
    "BookEdition = pd.DataFrame(list(zip(isbn,author,publicationDate,genre)),\n",
    "                          columns=[\"ISBN\",\"author\",\"publicationDate\",\"genre\"])"
   ]
  },
  {
   "cell_type": "code",
   "execution_count": 4,
   "id": "7cb28d6f",
   "metadata": {},
   "outputs": [
    {
     "data": {
      "text/html": [
       "<div>\n",
       "<style scoped>\n",
       "    .dataframe tbody tr th:only-of-type {\n",
       "        vertical-align: middle;\n",
       "    }\n",
       "\n",
       "    .dataframe tbody tr th {\n",
       "        vertical-align: top;\n",
       "    }\n",
       "\n",
       "    .dataframe thead th {\n",
       "        text-align: right;\n",
       "    }\n",
       "</style>\n",
       "<table border=\"1\" class=\"dataframe\">\n",
       "  <thead>\n",
       "    <tr style=\"text-align: right;\">\n",
       "      <th></th>\n",
       "      <th>ISBN</th>\n",
       "      <th>author</th>\n",
       "      <th>publicationDate</th>\n",
       "      <th>genre</th>\n",
       "    </tr>\n",
       "  </thead>\n",
       "  <tbody>\n",
       "    <tr>\n",
       "      <th>0</th>\n",
       "      <td>41298</td>\n",
       "      <td>Stacey Valley</td>\n",
       "      <td>2014</td>\n",
       "      <td>History</td>\n",
       "    </tr>\n",
       "    <tr>\n",
       "      <th>1</th>\n",
       "      <td>52762</td>\n",
       "      <td>Angela Hooker</td>\n",
       "      <td>1909</td>\n",
       "      <td>Non-Fiction</td>\n",
       "    </tr>\n",
       "    <tr>\n",
       "      <th>2</th>\n",
       "      <td>91413</td>\n",
       "      <td>Dawn Harris</td>\n",
       "      <td>1931</td>\n",
       "      <td>Cooking</td>\n",
       "    </tr>\n",
       "    <tr>\n",
       "      <th>3</th>\n",
       "      <td>70843</td>\n",
       "      <td>Martha Reyes</td>\n",
       "      <td>1930</td>\n",
       "      <td>Horror</td>\n",
       "    </tr>\n",
       "    <tr>\n",
       "      <th>4</th>\n",
       "      <td>15682</td>\n",
       "      <td>Jesus Perras</td>\n",
       "      <td>1995</td>\n",
       "      <td>History</td>\n",
       "    </tr>\n",
       "  </tbody>\n",
       "</table>\n",
       "</div>"
      ],
      "text/plain": [
       "    ISBN         author  publicationDate        genre\n",
       "0  41298  Stacey Valley             2014      History\n",
       "1  52762  Angela Hooker             1909  Non-Fiction\n",
       "2  91413    Dawn Harris             1931      Cooking\n",
       "3  70843   Martha Reyes             1930       Horror\n",
       "4  15682   Jesus Perras             1995      History"
      ]
     },
     "execution_count": 4,
     "metadata": {},
     "output_type": "execute_result"
    }
   ],
   "source": [
    "BookEdition.head()"
   ]
  },
  {
   "cell_type": "code",
   "execution_count": 5,
   "id": "9b031fa1",
   "metadata": {},
   "outputs": [],
   "source": [
    "# Create sample data for BookCopy\n",
    "isbn_copy = [isbn[random.randint(0,len(isbn)-1)] for n in range(200)]\n",
    "copyNumber = [isbn_copy[0:i+1].count(item) for i, item in enumerate(isbn_copy)]\n",
    "daysLoaned = [0] * len(isbn_copy)\n",
    "\n",
    "BookCopy = pd.DataFrame(list(zip(isbn_copy,copyNumber,daysLoaned)),\n",
    "                       columns=[\"ISBN\",\"copyNumber\",\"daysLoaned\"])"
   ]
  },
  {
   "cell_type": "code",
   "execution_count": 6,
   "id": "e92ddf1a",
   "metadata": {},
   "outputs": [
    {
     "data": {
      "text/html": [
       "<div>\n",
       "<style scoped>\n",
       "    .dataframe tbody tr th:only-of-type {\n",
       "        vertical-align: middle;\n",
       "    }\n",
       "\n",
       "    .dataframe tbody tr th {\n",
       "        vertical-align: top;\n",
       "    }\n",
       "\n",
       "    .dataframe thead th {\n",
       "        text-align: right;\n",
       "    }\n",
       "</style>\n",
       "<table border=\"1\" class=\"dataframe\">\n",
       "  <thead>\n",
       "    <tr style=\"text-align: right;\">\n",
       "      <th></th>\n",
       "      <th>ISBN</th>\n",
       "      <th>copyNumber</th>\n",
       "      <th>daysLoaned</th>\n",
       "    </tr>\n",
       "  </thead>\n",
       "  <tbody>\n",
       "    <tr>\n",
       "      <th>0</th>\n",
       "      <td>86563</td>\n",
       "      <td>1</td>\n",
       "      <td>0</td>\n",
       "    </tr>\n",
       "    <tr>\n",
       "      <th>1</th>\n",
       "      <td>71163</td>\n",
       "      <td>1</td>\n",
       "      <td>0</td>\n",
       "    </tr>\n",
       "    <tr>\n",
       "      <th>2</th>\n",
       "      <td>86783</td>\n",
       "      <td>1</td>\n",
       "      <td>0</td>\n",
       "    </tr>\n",
       "    <tr>\n",
       "      <th>3</th>\n",
       "      <td>61139</td>\n",
       "      <td>1</td>\n",
       "      <td>0</td>\n",
       "    </tr>\n",
       "    <tr>\n",
       "      <th>4</th>\n",
       "      <td>48118</td>\n",
       "      <td>1</td>\n",
       "      <td>0</td>\n",
       "    </tr>\n",
       "  </tbody>\n",
       "</table>\n",
       "</div>"
      ],
      "text/plain": [
       "    ISBN  copyNumber  daysLoaned\n",
       "0  86563           1           0\n",
       "1  71163           1           0\n",
       "2  86783           1           0\n",
       "3  61139           1           0\n",
       "4  48118           1           0"
      ]
     },
     "execution_count": 6,
     "metadata": {},
     "output_type": "execute_result"
    }
   ],
   "source": [
    "BookCopy.head()"
   ]
  },
  {
   "cell_type": "code",
   "execution_count": 7,
   "id": "8d3adfd1",
   "metadata": {},
   "outputs": [],
   "source": [
    "# Create sample data for Client\n",
    "clientId = [i+1 for i in range(60)]\n",
    "name = [names.get_full_name() for n in range(60)]\n",
    "residence = [residences[random.randint(0,len(residences)-1)] for n in range(60)]\n",
    "\n",
    "Client = pd.DataFrame(list(zip(clientId,name,residence)),\n",
    "                     columns=[\"clientId\",\"name\",\"residence\"])"
   ]
  },
  {
   "cell_type": "code",
   "execution_count": 8,
   "id": "b769890b",
   "metadata": {
    "scrolled": true
   },
   "outputs": [
    {
     "data": {
      "text/html": [
       "<div>\n",
       "<style scoped>\n",
       "    .dataframe tbody tr th:only-of-type {\n",
       "        vertical-align: middle;\n",
       "    }\n",
       "\n",
       "    .dataframe tbody tr th {\n",
       "        vertical-align: top;\n",
       "    }\n",
       "\n",
       "    .dataframe thead th {\n",
       "        text-align: right;\n",
       "    }\n",
       "</style>\n",
       "<table border=\"1\" class=\"dataframe\">\n",
       "  <thead>\n",
       "    <tr style=\"text-align: right;\">\n",
       "      <th></th>\n",
       "      <th>clientId</th>\n",
       "      <th>name</th>\n",
       "      <th>residence</th>\n",
       "    </tr>\n",
       "  </thead>\n",
       "  <tbody>\n",
       "    <tr>\n",
       "      <th>0</th>\n",
       "      <td>1</td>\n",
       "      <td>Roxann Vanegas</td>\n",
       "      <td>Como</td>\n",
       "    </tr>\n",
       "    <tr>\n",
       "      <th>1</th>\n",
       "      <td>2</td>\n",
       "      <td>Nathaniel Heisler</td>\n",
       "      <td>Maylands</td>\n",
       "    </tr>\n",
       "    <tr>\n",
       "      <th>2</th>\n",
       "      <td>3</td>\n",
       "      <td>George Lopez</td>\n",
       "      <td>Como</td>\n",
       "    </tr>\n",
       "    <tr>\n",
       "      <th>3</th>\n",
       "      <td>4</td>\n",
       "      <td>Pam Dickinson</td>\n",
       "      <td>Como</td>\n",
       "    </tr>\n",
       "    <tr>\n",
       "      <th>4</th>\n",
       "      <td>5</td>\n",
       "      <td>Estella Bushnell</td>\n",
       "      <td>Maylands</td>\n",
       "    </tr>\n",
       "  </tbody>\n",
       "</table>\n",
       "</div>"
      ],
      "text/plain": [
       "   clientId               name residence\n",
       "0         1     Roxann Vanegas      Como\n",
       "1         2  Nathaniel Heisler  Maylands\n",
       "2         3       George Lopez      Como\n",
       "3         4      Pam Dickinson      Como\n",
       "4         5   Estella Bushnell  Maylands"
      ]
     },
     "execution_count": 8,
     "metadata": {},
     "output_type": "execute_result"
    }
   ],
   "source": [
    "Client.head()"
   ]
  },
  {
   "cell_type": "code",
   "execution_count": 9,
   "id": "2923487e",
   "metadata": {},
   "outputs": [],
   "source": [
    "# List of tuples ensures ISBN and copyNumber are consistent and not mismatched during random selection\n",
    "isbn_copyNumber = [list(zip(isbn_copy,copyNumber))[random.randint(0,len(isbn_copy)-1)] for n in range(500)]\n",
    "\n",
    "clientId_loan = [clientId[random.randint(0,59)] for n in range(500)]\n",
    "isbn_loan = [item[0] for item in isbn_copyNumber]\n",
    "copyNumber_loan = [item[1] for item in isbn_copyNumber]\n",
    "dateOut = [randomDateString() for n in range(500)]\n",
    "dateBack = [\"NULL\" for n in range(500)]\n",
    "\n",
    "loan = pd.DataFrame(list(zip(clientId_loan,isbn_loan,copyNumber_loan,dateOut,dateBack)),\n",
    "                   columns=[\"clientId\",\"ISBN\",\"copyNumber\",\"dateOut\",\"dateBack\"])"
   ]
  },
  {
   "cell_type": "code",
   "execution_count": 10,
   "id": "3b2c409a",
   "metadata": {
    "scrolled": true
   },
   "outputs": [
    {
     "data": {
      "text/html": [
       "<div>\n",
       "<style scoped>\n",
       "    .dataframe tbody tr th:only-of-type {\n",
       "        vertical-align: middle;\n",
       "    }\n",
       "\n",
       "    .dataframe tbody tr th {\n",
       "        vertical-align: top;\n",
       "    }\n",
       "\n",
       "    .dataframe thead th {\n",
       "        text-align: right;\n",
       "    }\n",
       "</style>\n",
       "<table border=\"1\" class=\"dataframe\">\n",
       "  <thead>\n",
       "    <tr style=\"text-align: right;\">\n",
       "      <th></th>\n",
       "      <th>clientId</th>\n",
       "      <th>ISBN</th>\n",
       "      <th>copyNumber</th>\n",
       "      <th>dateOut</th>\n",
       "      <th>dateBack</th>\n",
       "    </tr>\n",
       "  </thead>\n",
       "  <tbody>\n",
       "    <tr>\n",
       "      <th>0</th>\n",
       "      <td>43</td>\n",
       "      <td>63511</td>\n",
       "      <td>1</td>\n",
       "      <td>2021-11-20</td>\n",
       "      <td>NULL</td>\n",
       "    </tr>\n",
       "    <tr>\n",
       "      <th>1</th>\n",
       "      <td>40</td>\n",
       "      <td>88505</td>\n",
       "      <td>4</td>\n",
       "      <td>2018-10-06</td>\n",
       "      <td>NULL</td>\n",
       "    </tr>\n",
       "    <tr>\n",
       "      <th>2</th>\n",
       "      <td>26</td>\n",
       "      <td>88505</td>\n",
       "      <td>2</td>\n",
       "      <td>2017-09-02</td>\n",
       "      <td>NULL</td>\n",
       "    </tr>\n",
       "    <tr>\n",
       "      <th>3</th>\n",
       "      <td>9</td>\n",
       "      <td>16751</td>\n",
       "      <td>3</td>\n",
       "      <td>2019-09-20</td>\n",
       "      <td>NULL</td>\n",
       "    </tr>\n",
       "    <tr>\n",
       "      <th>4</th>\n",
       "      <td>38</td>\n",
       "      <td>34980</td>\n",
       "      <td>1</td>\n",
       "      <td>2020-03-02</td>\n",
       "      <td>NULL</td>\n",
       "    </tr>\n",
       "  </tbody>\n",
       "</table>\n",
       "</div>"
      ],
      "text/plain": [
       "   clientId   ISBN  copyNumber     dateOut dateBack\n",
       "0        43  63511           1  2021-11-20     NULL\n",
       "1        40  88505           4  2018-10-06     NULL\n",
       "2        26  88505           2  2017-09-02     NULL\n",
       "3         9  16751           3  2019-09-20     NULL\n",
       "4        38  34980           1  2020-03-02     NULL"
      ]
     },
     "execution_count": 10,
     "metadata": {},
     "output_type": "execute_result"
    }
   ],
   "source": [
    "loan.head()"
   ]
  },
  {
   "cell_type": "code",
   "execution_count": 11,
   "id": "2a946c81",
   "metadata": {},
   "outputs": [
    {
     "name": "stdout",
     "output_type": "stream",
     "text": [
      "Enter database name here including .db extension (i.e., myDatabase.db): test.db\n"
     ]
    }
   ],
   "source": [
    "# Connect to the sqlite database\n",
    "db = input(\"Enter database name here including .db extension (i.e., myDatabase.db): \")\n",
    "conn = sqlite3.connect(db)\n",
    "cursor = conn.cursor()"
   ]
  },
  {
   "cell_type": "code",
   "execution_count": 12,
   "id": "9f5ca267",
   "metadata": {
    "scrolled": true
   },
   "outputs": [
    {
     "data": {
      "text/plain": [
       "100"
      ]
     },
     "execution_count": 12,
     "metadata": {},
     "output_type": "execute_result"
    }
   ],
   "source": [
    "# Populate BookEdition table with sample data\n",
    "BookEdition.to_sql(name=\"BookEdition\", con=conn, if_exists=\"append\", index=False)"
   ]
  },
  {
   "cell_type": "code",
   "execution_count": 13,
   "id": "d5fb44db",
   "metadata": {},
   "outputs": [
    {
     "data": {
      "text/plain": [
       "200"
      ]
     },
     "execution_count": 13,
     "metadata": {},
     "output_type": "execute_result"
    }
   ],
   "source": [
    "#Populate BookCopy table with sample data\n",
    "BookCopy.to_sql(name=\"BookCopy\", con=conn, if_exists=\"append\", index=False)"
   ]
  },
  {
   "cell_type": "code",
   "execution_count": 14,
   "id": "aad0fc1f",
   "metadata": {
    "scrolled": true
   },
   "outputs": [
    {
     "data": {
      "text/plain": [
       "60"
      ]
     },
     "execution_count": 14,
     "metadata": {},
     "output_type": "execute_result"
    }
   ],
   "source": [
    "# Populate Client table with sample data\n",
    "Client.to_sql(name=\"Client\", con=conn, if_exists=\"append\", index=False)"
   ]
  },
  {
   "cell_type": "code",
   "execution_count": 15,
   "id": "0a130815",
   "metadata": {},
   "outputs": [],
   "source": [
    "# loan.to_sql(name=\"loan\", con=conn, if_exists=\"append\", index=False)"
   ]
  },
  {
   "cell_type": "code",
   "execution_count": 16,
   "id": "9a3269f9",
   "metadata": {},
   "outputs": [],
   "source": [
    "# Commit to adding sample data\n",
    "conn.commit()"
   ]
  },
  {
   "cell_type": "code",
   "execution_count": 17,
   "id": "baf035f5",
   "metadata": {},
   "outputs": [],
   "source": [
    "# Generate a list of random return dates for some loans\n",
    "newDateBack = [randomDayAdder(2022, date) for date in dateOut]\n",
    "\n",
    "# Row wise simultaneous insertion and update of loan table, see note () in readme for the reason this is done\n",
    "for i, items in enumerate(loan.itertuples()):\n",
    "    insert = f\"INSERT INTO loan ('clientId','ISBN','copyNumber','dateOut','dateBack') VALUES ({items[1]},'{items[2]}',{items[3]},'{items[4]}',{items[5]});\"\n",
    "    cursor.execute(insert)\n",
    "    conn.commit()\n",
    "    if newDateBack[i]:\n",
    "        update = f\"UPDATE loan SET dateBack = '{newDateBack[i]}' WHERE clientId = {items[1]} AND ISBN = '{items[2]}' AND copyNumber = {items[3]} AND dateOut < '{items[5]}' AND dateBack IS NULL\"\n",
    "        cursor.execute(update)\n",
    "        conn.commit()"
   ]
  }
 ],
 "metadata": {
  "kernelspec": {
   "display_name": "Python 3 (ipykernel)",
   "language": "python",
   "name": "python3"
  },
  "language_info": {
   "codemirror_mode": {
    "name": "ipython",
    "version": 3
   },
   "file_extension": ".py",
   "mimetype": "text/x-python",
   "name": "python",
   "nbconvert_exporter": "python",
   "pygments_lexer": "ipython3",
   "version": "3.9.12"
  }
 },
 "nbformat": 4,
 "nbformat_minor": 5
}
